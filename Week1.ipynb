{
 "cells": [
  {
   "cell_type": "markdown",
   "id": "b669bc50",
   "metadata": {},
   "source": [
    "Define a class Car with attributes make, model, and year. Write a method to display these details. Create an object and call the method."
   ]
  },
  {
   "cell_type": "code",
   "execution_count": 12,
   "id": "a98e3dd5",
   "metadata": {},
   "outputs": [
    {
     "name": "stdout",
     "output_type": "stream",
     "text": [
      "Car Make: Neta\n",
      "Car Model: NetaV\n",
      "Car Year: 2023\n",
      "Car Make: Honda\n",
      "Car Model: Civic\n",
      "Car Year: 2019\n"
     ]
    }
   ],
   "source": [
    "class Car:\n",
    "    def __init__(self, make, model, year):\n",
    "        # keeping record of car company, model and year\n",
    "        self.make = make\n",
    "        self.model = model\n",
    "        self.year = year\n",
    "\n",
    "    def show_details(self):\n",
    "        # showing all the car info together\n",
    "        print(f\"Car Make: {self.make}\")\n",
    "        print(f\"Car Model: {self.model}\")\n",
    "        print(f\"Car Year: {self.year}\")\n",
    "\n",
    "# making one car object to test\n",
    "my_car1 = Car(\"Neta\", \"NetaV\", 2023)\n",
    "my_car2 = Car(\"Honda\", \"Civic\", 2019)\n",
    "\n",
    "# calling the function to show car details\n",
    "my_car1.show_details()\n",
    "my_car2.show_details()"
   ]
  },
  {
   "cell_type": "markdown",
   "id": "210c6851",
   "metadata": {},
   "source": [
    "Create a class Rectangle with methods to calculate area and perimeter.\n",
    "Instantiate the class and print both values."
   ]
  },
  {
   "cell_type": "code",
   "execution_count": 4,
   "id": "ba8a8623",
   "metadata": {},
   "outputs": [
    {
     "name": "stdout",
     "output_type": "stream",
     "text": [
      "Area: 70\n",
      "Perimeter: 34\n"
     ]
    }
   ],
   "source": [
    "class Rectangle:\n",
    "    def __init__(self, length, breadth):\n",
    "        # saving length and breadth of rectangle\n",
    "        self.length = length\n",
    "        self.breadth = breadth\n",
    "\n",
    "    def area(self):\n",
    "        # formula for area\n",
    "        return self.length * self.breadth\n",
    "\n",
    "    def perimeter(self):\n",
    "        # formula for perimeter\n",
    "        return 2 * (self.length + self.breadth)\n",
    "\n",
    "# making one rectangle object\n",
    "rect = Rectangle(10, 7)\n",
    "\n",
    "# printing area and perimeter\n",
    "print(\"Area:\", rect.area())\n",
    "print(\"Perimeter:\", rect.perimeter())\n"
   ]
  },
  {
   "cell_type": "markdown",
   "id": "7cc11a64",
   "metadata": {},
   "source": [
    "Implement inheritance by creating a base class Animal with a method\n",
    "speak(). Derive a class Dog that overrides speak() to print \"Woof!\". Create\n",
    "an object of Dog and call speak()."
   ]
  },
  {
   "cell_type": "code",
   "execution_count": 6,
   "id": "6760eec8",
   "metadata": {},
   "outputs": [
    {
     "name": "stdout",
     "output_type": "stream",
     "text": [
      "Woof!\n"
     ]
    }
   ],
   "source": [
    "class Animal:\n",
    "    def speak(self):\n",
    "        # normal animal sound\n",
    "        print(\"Animal makes sound\")\n",
    "\n",
    "class Dog(Animal):\n",
    "    def speak(self):\n",
    "        # dog sound instead of normal animal sound\n",
    "        print(\"Woof!\")\n",
    "\n",
    "# making one dog object\n",
    "d = Dog()\n",
    "\n",
    "# calling speak to check output\n",
    "d.speak()\n"
   ]
  },
  {
   "cell_type": "markdown",
   "id": "ea7cddd0",
   "metadata": {},
   "source": [
    "Write a class Employee with private attribute __salary. Provide getter and setter\n",
    "methods to access and update the salary. Demonstrate encapsulation by trying to\n",
    "access __salary directly and via getter/setter."
   ]
  },
  {
   "cell_type": "code",
   "execution_count": 7,
   "id": "e3aecefd",
   "metadata": {},
   "outputs": [
    {
     "name": "stdout",
     "output_type": "stream",
     "text": [
      "Salary: 60000\n",
      "Updated Salary: 60000\n"
     ]
    }
   ],
   "source": [
    "class Employee:\n",
    "    def __init__(self, salary):\n",
    "        # keeping salary hidden (private)\n",
    "        self.__salary = salary\n",
    "\n",
    "    def get_salary(self):\n",
    "        # used to see salary value\n",
    "        return self.__salary\n",
    "\n",
    "    def set_salary(self, new_salary):\n",
    "        # used to change salary value\n",
    "        self.__salary = new_salary\n",
    "\n",
    "# making one employee object\n",
    "emp = Employee(60000)\n",
    "\n",
    "# trying to see salary directly # this will not work\n",
    "# print(emp.__salary)   # gives error\n",
    "\n",
    "# using getter to check salary\n",
    "print(\"Salary:\", emp.get_salary())\n",
    "\n",
    "# using setter to change salary\n",
    "emp.set_salary(60000)\n",
    "\n",
    "# checking updated salary\n",
    "print(\"Updated Salary:\", emp.get_salary())\n"
   ]
  },
  {
   "cell_type": "markdown",
   "id": "60f5fe43",
   "metadata": {},
   "source": [
    "Create two classes A and B with a method greet() that prints different messages. Create\n",
    "a class C that inherits from both A and B. Call greet() from an object of C and explain\n",
    "which method is called."
   ]
  },
  {
   "cell_type": "code",
   "execution_count": 8,
   "id": "600ceccc",
   "metadata": {},
   "outputs": [
    {
     "name": "stdout",
     "output_type": "stream",
     "text": [
      "Hello from class A\n"
     ]
    }
   ],
   "source": [
    "class A:\n",
    "    def greet(self):\n",
    "        # message from class A\n",
    "        print(\"Hello from class A\")\n",
    "\n",
    "class B:\n",
    "    def greet(self):\n",
    "        # message from class B\n",
    "        print(\"Hello from class B\")\n",
    "\n",
    "class C(A, B):\n",
    "    # this class gets both A and B features\n",
    "    pass\n",
    "\n",
    "# making object of class C\n",
    "obj = C()\n",
    "\n",
    "# calling greet method\n",
    "obj.greet()   # this will call greet() from class A first\n"
   ]
  },
  {
   "cell_type": "markdown",
   "id": "3828ba62",
   "metadata": {},
   "source": [
    "Write a class Shape with an abstract method area(). Create two subclasses Circle and\n",
    "Square that override the area() method. Instantiate both and print their areas."
   ]
  },
  {
   "cell_type": "code",
   "execution_count": 10,
   "id": "2d9f7b4c",
   "metadata": {},
   "outputs": [
    {
     "name": "stdout",
     "output_type": "stream",
     "text": [
      "Circle Area: 314.0\n",
      "Square Area: 225\n"
     ]
    }
   ],
   "source": [
    "from abc import ABC, abstractmethod\n",
    "\n",
    "class Shape(ABC):\n",
    "    @abstractmethod\n",
    "    def area(self):\n",
    "        # just a rule that every shape must have area function\n",
    "        pass\n",
    "\n",
    "class Circle(Shape):\n",
    "    def __init__(self, radius):\n",
    "        # saving radius value\n",
    "        self.radius = radius\n",
    "\n",
    "    def area(self):\n",
    "        # formula for circle area\n",
    "        return 3.14 * self.radius * self.radius\n",
    "\n",
    "class Square(Shape):\n",
    "    def __init__(self, side):\n",
    "        # saving side value\n",
    "        self.side = side\n",
    "\n",
    "    def area(self):\n",
    "        # formula for square area\n",
    "        return self.side * self.side\n",
    "\n",
    "# making one circle and one square\n",
    "c = Circle(10)\n",
    "s = Square(15)\n",
    "\n",
    "# printing both areas\n",
    "print(\"Circle Area:\", c.area())\n",
    "print(\"Square Area:\", s.area())"
   ]
  },
  {
   "cell_type": "markdown",
   "id": "0bcf1165",
   "metadata": {},
   "source": [
    "Implement a class Counter with a class variable that keeps track of the number of\n",
    "instances created. Test it by creating multiple objects and printing the count."
   ]
  },
  {
   "cell_type": "code",
   "execution_count": 11,
   "id": "2d7e2621",
   "metadata": {},
   "outputs": [
    {
     "name": "stdout",
     "output_type": "stream",
     "text": [
      "Total objects created: 3\n"
     ]
    }
   ],
   "source": [
    "class Counter:\n",
    "    # class variable to count objects\n",
    "    count = 0\n",
    "\n",
    "    def __init__(self):\n",
    "        # every time object is made, increase count\n",
    "        Counter.count += 1\n",
    "\n",
    "# making few objects\n",
    "obj1 = Counter()\n",
    "obj2 = Counter()\n",
    "obj3 = Counter()\n",
    "\n",
    "# showing total number of objects made\n",
    "print(\"Total objects created:\", Counter.count)\n"
   ]
  }
 ],
 "metadata": {
  "kernelspec": {
   "display_name": "Python 3",
   "language": "python",
   "name": "python3"
  },
  "language_info": {
   "codemirror_mode": {
    "name": "ipython",
    "version": 3
   },
   "file_extension": ".py",
   "mimetype": "text/x-python",
   "name": "python",
   "nbconvert_exporter": "python",
   "pygments_lexer": "ipython3",
   "version": "3.13.5"
  }
 },
 "nbformat": 4,
 "nbformat_minor": 5
}
